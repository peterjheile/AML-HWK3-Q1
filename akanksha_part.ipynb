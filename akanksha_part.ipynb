{
 "cells": [
  {
   "cell_type": "code",
   "execution_count": 1,
   "metadata": {},
   "outputs": [],
   "source": [
    "#First, we want to get all of our data instances and classes to use. I will use PIL library to load the images because I have used it before and it is simple.\n",
    "import numpy as np\n",
    "from PIL import Image\n",
    "import os\n",
    "\n",
    "#local filepath to the dataset (just a folder with a bunch of images)\n",
    "dataset_filepath = \"Dataset\"\n",
    "\n",
    "#Create container for dataset features (pixels) and dataset labels (rock type)\n",
    "dataset_features = []\n",
    "dataset_labels = []\n",
    "\n",
    "\n",
    "#iteratee through each image and add each image isntance into an array (and convert the result to a numpy array) for features\n",
    "#Also get the Rocktype and add it to the labels container\n",
    "for image_name in os.listdir(dataset_filepath):\n",
    "    image_filepath = os.path.join(dataset_filepath, image_name)\n",
    "\n",
    "    #label (rocktype) and features (pixels). the First charachter is the image class\n",
    "    image_features = np.array(Image.open(image_filepath).convert('RGB'))\n",
    "    image_label = image_name[0].upper()\n",
    "\n",
    "    #add to respective container\n",
    "    dataset_features.append(image_features)\n",
    "    dataset_labels.append(image_label)\n",
    "\n",
    "\n",
    "#now convert each container to numpy arrays (this will help later on when we are doiong a lot data manipulation and calculations)\n",
    "dataset_features = np.array(dataset_features)\n",
    "dataset_labels = np.array(dataset_labels)"
   ]
  },
  {
   "cell_type": "code",
   "execution_count": 2,
   "metadata": {},
   "outputs": [
    {
     "name": "stdout",
     "output_type": "stream",
     "text": [
      "All Images Have Same Size: True\n",
      "\n",
      "Total Dataset Instances: 360\n",
      "Individual Image Shape: (800, 800, 3)\n"
     ]
    }
   ],
   "source": [
    "#Now I want to do a little bit of visualization just so we understand the dataset we are working at\n",
    "\n",
    "#First I want to see if all the images are the same size. If they are not, I am goiong to resize them all. Image check will be zero if all imagea re the same size\n",
    "image_size = dataset_features[0].shape\n",
    "image_check = sum([(image.shape != image_size) for image in dataset_features])\n",
    "\n",
    "#print results\n",
    "print(f\"All Images Have Same Size: {image_check == 0}\")\n",
    "\n",
    "print(f\"\\nTotal Dataset Instances: {len(dataset_labels)}\")\n",
    "print(f\"Individual Image Shape: {image_size}\")\n",
    "\n",
    "#Yay! They are all the same shape :)"
   ]
  },
  {
   "cell_type": "code",
   "execution_count": 3,
   "metadata": {},
   "outputs": [
    {
     "name": "stdout",
     "output_type": "stream",
     "text": [
      "Total Classes: 3\n"
     ]
    },
    {
     "data": {
      "image/png": "[encoded data removed]",
      "text/plain": [
       "<Figure size 640x480 with 1 Axes>"
      ]
     },
     "metadata": {},
     "output_type": "display_data"
    }
   ],
   "source": [
    "#And now also just a little information about our labels\n",
    "\n",
    "#First I want to see how many labels we have (should be 3 classes), and I also want to see how amyn isntances we have of each class and plot its histogram. \n",
    "#This could be usefew for if we accidentally train or test on disporportionate class instances and just to generally know\n",
    "# Create a histogram of the labels\n",
    "import matplotlib.pyplot as plt\n",
    "\n",
    "classes, classes_counts = np.unique(dataset_labels, return_counts=True)\n",
    "\n",
    "#Plot the histogram\n",
    "plt.bar(classes, classes_counts, color='skyblue', edgecolor='black')\n",
    "\n",
    "plt.xlabel('Rock Type')\n",
    "plt.ylabel('Class Count')\n",
    "plt.title('Distribution of Rock Classes')\n",
    "\n",
    "\n",
    "print(f\"Total Classes: {len(classes)}\")"
   ]
  },
  {
   "cell_type": "code",
   "execution_count": null,
   "metadata": {},
   "outputs": [],
   "source": []
  }
 ],
 "metadata": {
  "kernelspec": {
   "display_name": "amlenv",
   "language": "python",
   "name": "amlenv"
  },
  "language_info": {
   "codemirror_mode": {
    "name": "ipython",
    "version": 3
   },
   "file_extension": ".py",
   "mimetype": "text/x-python",
   "name": "python",
   "nbconvert_exporter": "python",
   "pygments_lexer": "ipython3",
   "version": "3.9.6"
  },
  "orig_nbformat": 4
 },
 "nbformat": 4,
 "nbformat_minor": 2
}
